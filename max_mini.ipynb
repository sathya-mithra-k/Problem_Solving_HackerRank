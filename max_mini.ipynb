{
 "cells": [
  {
   "cell_type": "code",
   "execution_count": 10,
   "id": "ada1fd94-f36d-44c9-9725-5a83aa2b7f75",
   "metadata": {},
   "outputs": [],
   "source": [
    "def miniMaxSum(arr):\n",
    "    l1=[]\n",
    "    for i in arr:\n",
    "        x=-i\n",
    "        for j in arr:\n",
    "            x+=j\n",
    "        l1.append(x)\n",
    "    print(min(l1),max(l1))"
   ]
  },
  {
   "cell_type": "code",
   "execution_count": null,
   "id": "66ee90dc-e024-40df-ba5a-5227c467d221",
   "metadata": {},
   "outputs": [],
   "source": [
    "if __name__ == '__main__':\n",
    "\n",
    "    arr = list(map(int, input().rstrip().split()))\n",
    "\n",
    "    miniMaxSum(arr)"
   ]
  },
  {
   "cell_type": "code",
   "execution_count": null,
   "id": "6b9df21b-57e2-4825-ab00-89183df89a36",
   "metadata": {},
   "outputs": [],
   "source": []
  }
 ],
 "metadata": {
  "kernelspec": {
   "display_name": "Python 3 (ipykernel)",
   "language": "python",
   "name": "python3"
  },
  "language_info": {
   "codemirror_mode": {
    "name": "ipython",
    "version": 3
   },
   "file_extension": ".py",
   "mimetype": "text/x-python",
   "name": "python",
   "nbconvert_exporter": "python",
   "pygments_lexer": "ipython3",
   "version": "3.11.2"
  }
 },
 "nbformat": 4,
 "nbformat_minor": 5
}
