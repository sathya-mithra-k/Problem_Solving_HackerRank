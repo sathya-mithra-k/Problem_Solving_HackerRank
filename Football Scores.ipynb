{
 "cells": [
  {
   "cell_type": "code",
   "execution_count": 3,
   "id": "3ec3d1a3-aa92-465d-8f6c-09f1e941796e",
   "metadata": {},
   "outputs": [
    {
     "name": "stdout",
     "output_type": "stream",
     "text": [
      "2\n",
      "4\n"
     ]
    }
   ],
   "source": [
    "a = [10,5,20,20,4,5,2,25,1]\n",
    "max = a[0]\n",
    "max_count = 0\n",
    "min = a[0]\n",
    "min_count = 0\n",
    "for i in range(len(a)):\n",
    "    if max < a[i]:\n",
    "        max = a[i]\n",
    "        max_count += 1\n",
    "\n",
    "    if min > a[i]:\n",
    "        min = a[i]\n",
    "        min_count+=1\n",
    "\n",
    "print(max_count)\n",
    "print(min_count)"
   ]
  },
  {
   "cell_type": "code",
   "execution_count": null,
   "id": "95fef896-a5a4-4bf8-ab8b-a041faca78cb",
   "metadata": {},
   "outputs": [],
   "source": []
  }
 ],
 "metadata": {
  "kernelspec": {
   "display_name": "Python 3 (ipykernel)",
   "language": "python",
   "name": "python3"
  },
  "language_info": {
   "codemirror_mode": {
    "name": "ipython",
    "version": 3
   },
   "file_extension": ".py",
   "mimetype": "text/x-python",
   "name": "python",
   "nbconvert_exporter": "python",
   "pygments_lexer": "ipython3",
   "version": "3.11.2"
  }
 },
 "nbformat": 4,
 "nbformat_minor": 5
}
