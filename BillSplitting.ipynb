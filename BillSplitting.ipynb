{
 "cells": [
  {
   "cell_type": "code",
   "execution_count": 7,
   "id": "43dbc276-6a92-4fc8-b254-28f7951ba23e",
   "metadata": {
    "jupyter": {
     "source_hidden": true
    }
   },
   "outputs": [
    {
     "data": {
      "text/plain": [
       "5"
      ]
     },
     "execution_count": 7,
     "metadata": {},
     "output_type": "execute_result"
    }
   ],
   "source": [
    "\n",
    "def bonAppetit(bill, k, b):\n",
    "    sums = 0\n",
    "    for i in range(len(bill)):\n",
    "        if bill[i] == bill[k]:\n",
    "            continue\n",
    "        else:\n",
    "            sums += bill[i]\n",
    "\n",
    "    if sums//2 == b:\n",
    "        return'Bon Appetit'\n",
    "    else: \n",
    "        balance = b - (sums//2)\n",
    "        return balance\n",
    "bonAppetit([3,10,2,9], 1, 12)\n",
    "    "
   ]
  },
  {
   "cell_type": "code",
   "execution_count": 18,
   "id": "36a3d8bd-0ee4-4bf8-8c9e-fb63719d3fbd",
   "metadata": {},
   "outputs": [
    {
     "data": {
      "text/plain": [
       "5"
      ]
     },
     "execution_count": 18,
     "metadata": {},
     "output_type": "execute_result"
    }
   ],
   "source": [
    "def bonAppetit(bill, k, b):\n",
    "    sums = sum(bill)-bill[k] \n",
    "    if sums//2 == b:\n",
    "        return'Bon Appetit'\n",
    "    else: \n",
    "        balance = b - (sums//2)\n",
    "        return balance\n",
    "bonAppetit([3,10,2,9], 1, 12)\n",
    "    "
   ]
  },
  {
   "cell_type": "code",
   "execution_count": 12,
   "id": "4c29079a-75d0-48b4-b42e-093c1a2291bb",
   "metadata": {},
   "outputs": [
    {
     "name": "stdout",
     "output_type": "stream",
     "text": [
      "[1, 2, 4]\n"
     ]
    },
    {
     "data": {
      "text/plain": [
       "list"
      ]
     },
     "execution_count": 12,
     "metadata": {},
     "output_type": "execute_result"
    }
   ],
   "source": [
    "a = [1,2,3,4]\n",
    "a.pop(2)\n",
    "print(a)\n",
    "type(a)"
   ]
  },
  {
   "cell_type": "code",
   "execution_count": 10,
   "id": "125d254f-8e04-410b-b077-04f56c623716",
   "metadata": {},
   "outputs": [
    {
     "data": {
      "text/plain": [
       "7"
      ]
     },
     "execution_count": 10,
     "metadata": {},
     "output_type": "execute_result"
    }
   ],
   "source": [
    "sum(a)"
   ]
  },
  {
   "cell_type": "code",
   "execution_count": null,
   "id": "9d397cae-8c85-461f-8990-7df9c4650edc",
   "metadata": {},
   "outputs": [],
   "source": []
  }
 ],
 "metadata": {
  "kernelspec": {
   "display_name": "Python 3 (ipykernel)",
   "language": "python",
   "name": "python3"
  },
  "language_info": {
   "codemirror_mode": {
    "name": "ipython",
    "version": 3
   },
   "file_extension": ".py",
   "mimetype": "text/x-python",
   "name": "python",
   "nbconvert_exporter": "python",
   "pygments_lexer": "ipython3",
   "version": "3.11.2"
  }
 },
 "nbformat": 4,
 "nbformat_minor": 5
}
