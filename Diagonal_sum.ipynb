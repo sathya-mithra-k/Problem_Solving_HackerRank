{
 "cells": [
  {
   "cell_type": "markdown",
   "id": "cdc91c6a-517c-4ae5-a7ec-5d32fcf28d27",
   "metadata": {},
   "source": [
    "Trials"
   ]
  },
  {
   "cell_type": "code",
   "execution_count": 1,
   "id": "f4a9209e-938c-4bde-9247-3f79e9029184",
   "metadata": {},
   "outputs": [
    {
     "name": "stdout",
     "output_type": "stream",
     "text": [
      "2\n"
     ]
    }
   ],
   "source": [
    "a = 3\n",
    "b = -1\n",
    "print(a+b)"
   ]
  },
  {
   "cell_type": "code",
   "execution_count": 17,
   "id": "f725a80c-aad0-461a-a2b1-3eb61fff1213",
   "metadata": {},
   "outputs": [
    {
     "name": "stdout",
     "output_type": "stream",
     "text": [
      "[ 1 -5  9]\n"
     ]
    }
   ],
   "source": [
    "import numpy as np\n",
    "\n",
    "arr = np.array([[1, 2, 3],\n",
    "                [4, -5, 6],\n",
    "                [7, 8, 9]])\n",
    "\n",
    "diagonal = np.diagonal(arr)\n",
    "print(diagonal)"
   ]
  },
  {
   "cell_type": "code",
   "execution_count": 5,
   "id": "218afd1e-c10a-4cc6-95cb-d4da0cd603d9",
   "metadata": {},
   "outputs": [
    {
     "name": "stdout",
     "output_type": "stream",
     "text": [
      "[2 6]\n"
     ]
    }
   ],
   "source": [
    "diagonal = np.diagonal(arr,offset=1)\n",
    "print(diagonal)"
   ]
  },
  {
   "cell_type": "code",
   "execution_count": 7,
   "id": "695bbf41-02cb-4410-a16c-9505431686f3",
   "metadata": {},
   "outputs": [
    {
     "name": "stdout",
     "output_type": "stream",
     "text": [
      "Anti-Diagonal: [3 5 7]\n"
     ]
    }
   ],
   "source": [
    "anti_diagonal = np.diag(np.fliplr(arr))\n",
    "print(\"Anti-Diagonal:\", anti_diagonal)"
   ]
  },
  {
   "cell_type": "code",
   "execution_count": 18,
   "id": "a75d3fba-6020-49c3-bfa5-79b080c7fa99",
   "metadata": {},
   "outputs": [
    {
     "name": "stdout",
     "output_type": "stream",
     "text": [
      "Sum of all elements: 5\n"
     ]
    }
   ],
   "source": [
    "\n",
    "total_sum = int(sum(diagonal))\n",
    "print(\"Sum of all elements:\", total_sum)"
   ]
  },
  {
   "cell_type": "code",
   "execution_count": 16,
   "id": "1d4f065b-22ae-402a-b753-b8a5ead047e8",
   "metadata": {},
   "outputs": [
    {
     "data": {
      "text/plain": [
       "int"
      ]
     },
     "execution_count": 16,
     "metadata": {},
     "output_type": "execute_result"
    }
   ],
   "source": [
    "type(total_sum)"
   ]
  },
  {
   "cell_type": "code",
   "execution_count": 25,
   "id": "d3880616-57bc-4803-b0e3-c976929630a9",
   "metadata": {},
   "outputs": [],
   "source": [
    "def func(arr):\n",
    "    d1 = np.diagonal(arr)\n",
    "    print(d1)\n",
    "    d2 = np.diag(np.fliplr(arr))\n",
    "    print(d2)\n",
    "    d1_sum = int(sum(d1))\n",
    "    print(d1_sum)\n",
    "    d2_sum = int(sum(d2))\n",
    "    print(d2_sum)\n",
    "    ans = abs(d1_sum-d2_sum)\n",
    "    return ans"
   ]
  },
  {
   "cell_type": "code",
   "execution_count": 26,
   "id": "d5faff46-0000-4ef7-9557-9e50c6143dd4",
   "metadata": {},
   "outputs": [
    {
     "name": "stdout",
     "output_type": "stream",
     "text": [
      "[ 1 -5  9]\n",
      "[ 3 -5  7]\n",
      "5\n",
      "5\n"
     ]
    },
    {
     "data": {
      "text/plain": [
       "0"
      ]
     },
     "execution_count": 26,
     "metadata": {},
     "output_type": "execute_result"
    }
   ],
   "source": [
    "func([[1, 2, 3],[4, -5, 6],[7, 8, 9]])"
   ]
  },
  {
   "cell_type": "code",
   "execution_count": 27,
   "id": "bc7b6f03-21c9-410c-aafb-9dda645c4940",
   "metadata": {},
   "outputs": [],
   "source": [
    "arr = [[1, 2, 3],[4, -5, 6],[7, 8, 9]]"
   ]
  },
  {
   "cell_type": "code",
   "execution_count": 28,
   "id": "115d0e74-5334-4da4-a0a2-c6339d484d69",
   "metadata": {},
   "outputs": [],
   "source": [
    "a1 = [arr[i][i] for i in range(len(arr))]"
   ]
  },
  {
   "cell_type": "code",
   "execution_count": 29,
   "id": "54a11cc1-4242-470b-87ad-575c67644b18",
   "metadata": {},
   "outputs": [
    {
     "data": {
      "text/plain": [
       "[1, -5, 9]"
      ]
     },
     "execution_count": 29,
     "metadata": {},
     "output_type": "execute_result"
    }
   ],
   "source": [
    "a1"
   ]
  },
  {
   "cell_type": "code",
   "execution_count": 32,
   "id": "5417b8ae-73f7-4f17-bdb9-494b6e82ef88",
   "metadata": {},
   "outputs": [],
   "source": [
    "a2 = [arr[i][len(arr)-1-i] for i in range(len(arr))]"
   ]
  },
  {
   "cell_type": "code",
   "execution_count": 33,
   "id": "8c18533a-b19b-439b-a034-8b2e5038269b",
   "metadata": {},
   "outputs": [
    {
     "data": {
      "text/plain": [
       "[3, -5, 7]"
      ]
     },
     "execution_count": 33,
     "metadata": {},
     "output_type": "execute_result"
    }
   ],
   "source": [
    "a2"
   ]
  },
  {
   "cell_type": "code",
   "execution_count": 34,
   "id": "535fb559-9dce-4f7d-bccd-04e14e153b3b",
   "metadata": {},
   "outputs": [],
   "source": [
    "def diagonalDifference(arr):\n",
    "    a1 = [arr[i][i] for i in range(len(arr))]\n",
    "    a2 = [arr[i][len(arr)-1-i] for i in range(len(arr))]\n",
    "    a1_sum = sum(a1)\n",
    "    a2_sum = sum(a2)\n",
    "    dif = abs(a1_sum - a2_sum)\n",
    "    return dif"
   ]
  },
  {
   "cell_type": "code",
   "execution_count": 37,
   "id": "7dfcd70d-10e2-4914-8da7-6d79f39cd3b1",
   "metadata": {},
   "outputs": [],
   "source": [
    "arr = [[1, 2, 3],[4, -5, 6],[7, 8, 8]]"
   ]
  },
  {
   "cell_type": "code",
   "execution_count": 38,
   "id": "407c74dc-3752-4b00-afec-dc5a01d2491c",
   "metadata": {},
   "outputs": [
    {
     "data": {
      "text/plain": [
       "1"
      ]
     },
     "execution_count": 38,
     "metadata": {},
     "output_type": "execute_result"
    }
   ],
   "source": [
    "diagonalDifference(arr)"
   ]
  },
  {
   "cell_type": "code",
   "execution_count": null,
   "id": "1a68d87f-2e60-4f11-97d7-3c10e0974a25",
   "metadata": {},
   "outputs": [],
   "source": [
    "if __name__ == '__main__':\n",
    "    fptr = open(os.environ['OUTPUT_PATH'], 'w')\n",
    "\n",
    "    n = int(input().strip())\n",
    "\n",
    "    arr = []\n",
    "\n",
    "    for _ in range(n):\n",
    "        arr.append(list(map(int, input().rstrip().split())))\n",
    "\n",
    "    result = diagonalDifference(arr)\n",
    "\n",
    "    fptr.write(str(result) + '\\n')\n",
    "\n",
    "    fptr.close()"
   ]
  },
  {
   "cell_type": "markdown",
   "id": "19f3f881-b747-4581-bd2f-34ff05e1e268",
   "metadata": {},
   "source": [
    "ACTUAL CODE "
   ]
  },
  {
   "cell_type": "code",
   "execution_count": null,
   "id": "fbe9dd70-c10c-4516-aae4-61046c2ff3c8",
   "metadata": {},
   "outputs": [],
   "source": [
    "def diagonalDifference(arr):\n",
    "    a1 = [arr[i][i] for i in range(len(arr))]\n",
    "    a2 = [arr[i][len(arr)-1-i] for i in range(len(arr))]\n",
    "    a1_sum = sum(a1)\n",
    "    a2_sum = sum(a2)\n",
    "    dif = abs(a1_sum - a2_sum)\n",
    "    return dif\n",
    "\n",
    "if __name__ == '__main__':\n",
    "    fptr = open(os.environ['OUTPUT_PATH'], 'w')\n",
    "\n",
    "    n = int(input().strip())\n",
    "\n",
    "    arr = []\n",
    "\n",
    "    for _ in range(n):\n",
    "        arr.append(list(map(int, input().rstrip().split())))\n",
    "\n",
    "    result = diagonalDifference(arr)\n",
    "\n",
    "    fptr.write(str(result) + '\\n')\n",
    "\n",
    "    fptr.close()"
   ]
  }
 ],
 "metadata": {
  "kernelspec": {
   "display_name": "Python 3 (ipykernel)",
   "language": "python",
   "name": "python3"
  },
  "language_info": {
   "codemirror_mode": {
    "name": "ipython",
    "version": 3
   },
   "file_extension": ".py",
   "mimetype": "text/x-python",
   "name": "python",
   "nbconvert_exporter": "python",
   "pygments_lexer": "ipython3",
   "version": "3.11.2"
  }
 },
 "nbformat": 4,
 "nbformat_minor": 5
}
