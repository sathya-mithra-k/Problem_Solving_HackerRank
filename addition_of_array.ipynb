{
 "cells": [
  {
   "cell_type": "code",
   "execution_count": 4,
   "id": "b2678ff5-d378-4117-b713-beacb83a8ae1",
   "metadata": {},
   "outputs": [],
   "source": [
    "def arraysum(a):\n",
    "    sums = 0\n",
    "    for i in range(len(a)):\n",
    "        sums = sums +a[i]\n",
    "        i+=1\n",
    "    return sums"
   ]
  },
  {
   "cell_type": "code",
   "execution_count": 6,
   "id": "f4865720-0b28-4c38-b987-889c6416976a",
   "metadata": {},
   "outputs": [
    {
     "name": "stdin",
     "output_type": "stream",
     "text": [
      " 2\n",
      " 1 3\n"
     ]
    },
    {
     "name": "stdout",
     "output_type": "stream",
     "text": [
      "4\n"
     ]
    }
   ],
   "source": [
    "if __name__ == '__main__':\n",
    "    N = int(input().strip())\n",
    "    A = list(map(int,input().strip().split()))\n",
    "    result = arraysum(A)\n",
    "    print(result)"
   ]
  },
  {
   "cell_type": "code",
   "execution_count": null,
   "id": "a35fffc6-a43e-4f10-a556-e1be99ff3806",
   "metadata": {},
   "outputs": [],
   "source": []
  }
 ],
 "metadata": {
  "kernelspec": {
   "display_name": "Python 3 (ipykernel)",
   "language": "python",
   "name": "python3"
  },
  "language_info": {
   "codemirror_mode": {
    "name": "ipython",
    "version": 3
   },
   "file_extension": ".py",
   "mimetype": "text/x-python",
   "name": "python",
   "nbconvert_exporter": "python",
   "pygments_lexer": "ipython3",
   "version": "3.11.2"
  }
 },
 "nbformat": 4,
 "nbformat_minor": 5
}
