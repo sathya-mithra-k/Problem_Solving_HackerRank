{
 "cells": [
  {
   "cell_type": "code",
   "execution_count": 4,
   "id": "7d070b9a-d122-45b3-bd7e-4cff5f35629f",
   "metadata": {},
   "outputs": [],
   "source": [
    "def staircase(x):\n",
    "    n = x\n",
    "    for i in range(1,x+1):\n",
    "        print(\" \"*(x-i) + \"#\"*i)\n",
    "        n-=1"
   ]
  },
  {
   "cell_type": "code",
   "execution_count": 5,
   "id": "fc52226e-ac97-4193-95e3-b5c82867d792",
   "metadata": {},
   "outputs": [
    {
     "name": "stdout",
     "output_type": "stream",
     "text": [
      "   #\n",
      "  ##\n",
      " ###\n",
      "####\n"
     ]
    }
   ],
   "source": [
    "staircase(4)"
   ]
  },
  {
   "cell_type": "code",
   "execution_count": null,
   "id": "db8f7ee6-872c-4f1c-a420-e520be31eec7",
   "metadata": {},
   "outputs": [],
   "source": []
  }
 ],
 "metadata": {
  "kernelspec": {
   "display_name": "Python 3 (ipykernel)",
   "language": "python",
   "name": "python3"
  },
  "language_info": {
   "codemirror_mode": {
    "name": "ipython",
    "version": 3
   },
   "file_extension": ".py",
   "mimetype": "text/x-python",
   "name": "python",
   "nbconvert_exporter": "python",
   "pygments_lexer": "ipython3",
   "version": "3.11.2"
  }
 },
 "nbformat": 4,
 "nbformat_minor": 5
}
