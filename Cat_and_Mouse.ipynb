{
 "cells": [
  {
   "cell_type": "code",
   "execution_count": 1,
   "id": "9168295f-e630-4dce-932b-a9d65089bf10",
   "metadata": {},
   "outputs": [
    {
     "data": {
      "text/plain": [
       "'Cat B'"
      ]
     },
     "execution_count": 1,
     "metadata": {},
     "output_type": "execute_result"
    }
   ],
   "source": [
    "def catAndMouse(x, y, z):\n",
    "    catA = z - x\n",
    "    catB = z - y\n",
    "    if catA < catB:\n",
    "        return \"Cat A\"\n",
    "    elif catB < catA:\n",
    "        return \"Cat B\"\n",
    "    else:\n",
    "        return \"Mouse C\"\n",
    "\n",
    "catAndMouse(1, 2, 3)"
   ]
  },
  {
   "cell_type": "code",
   "execution_count": null,
   "id": "1c588f94-0b21-4fd7-8f0b-e87cf9fff55b",
   "metadata": {},
   "outputs": [],
   "source": []
  }
 ],
 "metadata": {
  "kernelspec": {
   "display_name": "Python 3 (ipykernel)",
   "language": "python",
   "name": "python3"
  },
  "language_info": {
   "codemirror_mode": {
    "name": "ipython",
    "version": 3
   },
   "file_extension": ".py",
   "mimetype": "text/x-python",
   "name": "python",
   "nbconvert_exporter": "python",
   "pygments_lexer": "ipython3",
   "version": "3.11.2"
  }
 },
 "nbformat": 4,
 "nbformat_minor": 5
}
