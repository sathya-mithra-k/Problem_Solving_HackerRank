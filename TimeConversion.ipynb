{
 "cells": [
  {
   "cell_type": "code",
   "execution_count": 9,
   "id": "256a0b68-fd46-484e-a30b-c32928c0bc06",
   "metadata": {},
   "outputs": [],
   "source": [
    "def timeConversion(s):\n",
    "    if s[-2:] == 'AM' and s[:2] =='12':\n",
    "        return '00' + s[2:-2]\n",
    "    elif s[-2:] == 'AM':\n",
    "        return s[:-2]\n",
    "    elif s[-2:] == 'PM' and s[:2] == '12':\n",
    "        return s[:-2]\n",
    "    else:\n",
    "        a = int(s[:2])\n",
    "        b = str(a + 12)\n",
    "    return b+ s[2:-2]\n",
    "    \n",
    "    "
   ]
  },
  {
   "cell_type": "code",
   "execution_count": null,
   "id": "1891dc4a-2694-428f-9b83-5e117e5d959f",
   "metadata": {},
   "outputs": [],
   "source": [
    "if __name__ == '__main__':\n",
    "    fptr = open(os.environ['OUTPUT_PATH'], 'w')\n",
    "\n",
    "    s = input()\n",
    "\n",
    "    result = timeConversion(s)\n",
    "\n",
    "    fptr.write(result + '\\n')"
   ]
  },
  {
   "cell_type": "code",
   "execution_count": 8,
   "id": "c841d3f6-7a5d-4899-ab03-9f6b1707a6db",
   "metadata": {},
   "outputs": [
    {
     "data": {
      "text/plain": [
       "'06:40:03'"
      ]
     },
     "execution_count": 8,
     "metadata": {},
     "output_type": "execute_result"
    }
   ],
   "source": [
    "timeConversion('06:40:03AM')"
   ]
  },
  {
   "cell_type": "code",
   "execution_count": null,
   "id": "4528a2a3-0b66-4a66-aac7-3e87ce55282b",
   "metadata": {},
   "outputs": [],
   "source": []
  }
 ],
 "metadata": {
  "kernelspec": {
   "display_name": "Python 3 (ipykernel)",
   "language": "python",
   "name": "python3"
  },
  "language_info": {
   "codemirror_mode": {
    "name": "ipython",
    "version": 3
   },
   "file_extension": ".py",
   "mimetype": "text/x-python",
   "name": "python",
   "nbconvert_exporter": "python",
   "pygments_lexer": "ipython3",
   "version": "3.11.2"
  }
 },
 "nbformat": 4,
 "nbformat_minor": 5
}
