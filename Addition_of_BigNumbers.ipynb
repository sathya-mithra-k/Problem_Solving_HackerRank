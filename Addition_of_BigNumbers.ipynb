{
 "cells": [
  {
   "cell_type": "code",
   "execution_count": null,
   "id": "6f2ff2ba-6120-4045-adba-260583f5cf03",
   "metadata": {},
   "outputs": [],
   "source": [
    "def aVeryBigSum(a):\n",
    "    sums = 0\n",
    "    for i in range(len(a)):\n",
    "        sums = sums +a[i]\n",
    "        i+=1\n",
    "    return sums\n",
    "\n",
    "if __name__ == '__main__':\n",
    "    N = int(input().strip())\n",
    "    A = list(map(int,input().strip().split()))\n",
    "    result = aVeryBigSum(A)\n",
    "    print(result)\n"
   ]
  }
 ],
 "metadata": {
  "kernelspec": {
   "display_name": "Python 3 (ipykernel)",
   "language": "python",
   "name": "python3"
  },
  "language_info": {
   "codemirror_mode": {
    "name": "ipython",
    "version": 3
   },
   "file_extension": ".py",
   "mimetype": "text/x-python",
   "name": "python",
   "nbconvert_exporter": "python",
   "pygments_lexer": "ipython3",
   "version": "3.11.2"
  }
 },
 "nbformat": 4,
 "nbformat_minor": 5
}
