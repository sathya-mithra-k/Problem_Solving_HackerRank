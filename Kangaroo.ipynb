{
 "cells": [
  {
   "cell_type": "code",
   "execution_count": 5,
   "id": "e92545e8-5eed-4a2e-9ba5-63b6b1481f7a",
   "metadata": {},
   "outputs": [],
   "source": [
    "def kangaroo(x1, v1, x2, v2):\n",
    "    if v1==v2: \n",
    "        if x1==x2:\n",
    "            return \"YES\"\n",
    "        else:\n",
    "            return \"NO\"\n",
    "        \n",
    "    if (x1 < x2 and v1 <= v2) or (x2 < x1 and v2 <= v1):\n",
    "        return \"NO\"\n",
    "        \n",
    "    if ((x2-x1)%(v1-v2) == 0):\n",
    "        return \"YES\"\n",
    "    else:\n",
    "        return \"NO\""
   ]
  },
  {
   "cell_type": "code",
   "execution_count": null,
   "id": "6c50632d-aa0b-4d5a-939d-f806611452b3",
   "metadata": {},
   "outputs": [],
   "source": []
  }
 ],
 "metadata": {
  "kernelspec": {
   "display_name": "Python 3 (ipykernel)",
   "language": "python",
   "name": "python3"
  },
  "language_info": {
   "codemirror_mode": {
    "name": "ipython",
    "version": 3
   },
   "file_extension": ".py",
   "mimetype": "text/x-python",
   "name": "python",
   "nbconvert_exporter": "python",
   "pygments_lexer": "ipython3",
   "version": "3.11.2"
  }
 },
 "nbformat": 4,
 "nbformat_minor": 5
}
