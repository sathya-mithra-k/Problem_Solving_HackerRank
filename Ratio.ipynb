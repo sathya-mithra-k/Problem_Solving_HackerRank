{
 "cells": [
  {
   "cell_type": "code",
   "execution_count": 6,
   "id": "6b511ded-5521-4b7f-9df3-bd92a327d6d9",
   "metadata": {},
   "outputs": [
    {
     "name": "stdout",
     "output_type": "stream",
     "text": [
      "2 2 1 5\n"
     ]
    }
   ],
   "source": [
    "arr = [1,1,0,-1,-1]\n",
    "total =len(arr)\n",
    "positive = 0\n",
    "zero = 0\n",
    "negative = 0\n",
    "for i in range(len(arr)):\n",
    "    if arr[i] < 0:\n",
    "        negative = negative + 1\n",
    "    elif arr[i] > 0:\n",
    "        positive = positive + 1\n",
    "    else:\n",
    "        zero = zero + 1\n",
    "print(positive, negative, zero, total)\n",
    "        "
   ]
  },
  {
   "cell_type": "code",
   "execution_count": 2,
   "id": "ab6b11df-9fe2-4bf5-abd0-9c63ce9fdee1",
   "metadata": {},
   "outputs": [
    {
     "data": {
      "text/plain": [
       "True"
      ]
     },
     "execution_count": 2,
     "metadata": {},
     "output_type": "execute_result"
    }
   ],
   "source": [
    "-1<0"
   ]
  },
  {
   "cell_type": "code",
   "execution_count": 17,
   "id": "559aa1af-7b43-489d-91e1-fc6cc1f35e9c",
   "metadata": {},
   "outputs": [
    {
     "name": "stdout",
     "output_type": "stream",
     "text": [
      "0.400000\n",
      "0.400000\n",
      "0.200000\n"
     ]
    }
   ],
   "source": [
    "def plusMinus(arr):\n",
    "total =len(arr)\n",
    "positive = 0\n",
    "zero = 0\n",
    "negative = 0\n",
    "for i in range(len(arr)):\n",
    "    if arr[i] < 0:\n",
    "        negative = negative + 1\n",
    "    elif arr[i] > 0:\n",
    "        positive = positive + 1\n",
    "    else:\n",
    "        zero = zero + 1\n",
    "post_ratio = positive/total\n",
    "neg_ratio = negative/total\n",
    "zero_ratio = zero/total\n",
    "print('{:.6f}'.format(post_ratio))\n",
    "print('{:.6f}'.format(neg_ratio)) \n",
    "print('{:.6f}'.format(zero_ratio))"
   ]
  },
  {
   "cell_type": "code",
   "execution_count": null,
   "id": "564e66b6-8341-4cc0-aea9-bb68694d9f5c",
   "metadata": {},
   "outputs": [],
   "source": [
    "if __name__ == '__main__':\n",
    "    n = int(input().strip())\n",
    "\n",
    "    arr = list(map(int, input().rstrip().split()))\n",
    "\n",
    "    plusMinus(arr)"
   ]
  },
  {
   "cell_type": "code",
   "execution_count": null,
   "id": "30e3f1c3-4805-4d44-af20-6acb7ad16146",
   "metadata": {},
   "outputs": [],
   "source": []
  }
 ],
 "metadata": {
  "kernelspec": {
   "display_name": "Python 3 (ipykernel)",
   "language": "python",
   "name": "python3"
  },
  "language_info": {
   "codemirror_mode": {
    "name": "ipython",
    "version": 3
   },
   "file_extension": ".py",
   "mimetype": "text/x-python",
   "name": "python",
   "nbconvert_exporter": "python",
   "pygments_lexer": "ipython3",
   "version": "3.11.2"
  }
 },
 "nbformat": 4,
 "nbformat_minor": 5
}
