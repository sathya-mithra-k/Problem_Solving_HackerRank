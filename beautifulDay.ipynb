{
 "cells": [
  {
   "cell_type": "code",
   "execution_count": 16,
   "id": "0342d7e2-3239-42a2-b0b3-fdd3b07c493e",
   "metadata": {},
   "outputs": [
    {
     "data": {
      "text/plain": [
       "2"
      ]
     },
     "execution_count": 16,
     "metadata": {},
     "output_type": "execute_result"
    }
   ],
   "source": [
    "def beautifulDays(i, j, k):\n",
    "    count = 0\n",
    "    for a in range(i,j+1):\n",
    "        b = str(a)\n",
    "        c = int(b[::-1])\n",
    "        x = abs(a-c)\n",
    "        if x % k == 0:\n",
    "            count +=1\n",
    "    return count    \n",
    "\n",
    "beautifulDays, 23, 6)"
   ]
  },
  {
   "cell_type": "code",
   "execution_count": null,
   "id": "1e2034ae-d5f6-46f5-903d-2439d6c7799d",
   "metadata": {},
   "outputs": [],
   "source": []
  }
 ],
 "metadata": {
  "kernelspec": {
   "display_name": "Python 3 (ipykernel)",
   "language": "python",
   "name": "python3"
  },
  "language_info": {
   "codemirror_mode": {
    "name": "ipython",
    "version": 3
   },
   "file_extension": ".py",
   "mimetype": "text/x-python",
   "name": "python",
   "nbconvert_exporter": "python",
   "pygments_lexer": "ipython3",
   "version": "3.11.2"
  }
 },
 "nbformat": 4,
 "nbformat_minor": 5
}
